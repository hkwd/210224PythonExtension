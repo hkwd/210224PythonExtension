{
 "cells": [
  {
   "attachments": {},
   "cell_type": "markdown",
   "id": "358dbe7a",
   "metadata": {},
   "source": [
    "# JSONデータをPandasDF化する"
   ]
  },
  {
   "attachments": {},
   "cell_type": "markdown",
   "id": "60e8a901",
   "metadata": {},
   "source": [
    "## ①シンプルな構造のJSON"
   ]
  },
  {
   "cell_type": "code",
   "execution_count": 1,
   "id": "32605bec",
   "metadata": {},
   "outputs": [
    {
     "data": {
      "text/html": [
       "<div>\n",
       "<style scoped>\n",
       "    .dataframe tbody tr th:only-of-type {\n",
       "        vertical-align: middle;\n",
       "    }\n",
       "\n",
       "    .dataframe tbody tr th {\n",
       "        vertical-align: top;\n",
       "    }\n",
       "\n",
       "    .dataframe thead th {\n",
       "        text-align: right;\n",
       "    }\n",
       "</style>\n",
       "<table border=\"1\" class=\"dataframe\">\n",
       "  <thead>\n",
       "    <tr style=\"text-align: right;\">\n",
       "      <th></th>\n",
       "      <th>id</th>\n",
       "      <th>UP_TIME</th>\n",
       "      <th>POWER</th>\n",
       "      <th>TEMP</th>\n",
       "      <th>ERR_CD</th>\n",
       "    </tr>\n",
       "  </thead>\n",
       "  <tbody>\n",
       "    <tr>\n",
       "      <th>0</th>\n",
       "      <td>1000</td>\n",
       "      <td>0</td>\n",
       "      <td>948</td>\n",
       "      <td>250</td>\n",
       "      <td>NaN</td>\n",
       "    </tr>\n",
       "    <tr>\n",
       "      <th>1</th>\n",
       "      <td>1000</td>\n",
       "      <td>1</td>\n",
       "      <td>945</td>\n",
       "      <td>251</td>\n",
       "      <td>1.0</td>\n",
       "    </tr>\n",
       "  </tbody>\n",
       "</table>\n",
       "</div>"
      ],
      "text/plain": [
       "     id  UP_TIME  POWER  TEMP  ERR_CD\n",
       "0  1000        0    948   250     NaN\n",
       "1  1000        1    945   251     1.0"
      ]
     },
     "execution_count": 1,
     "metadata": {},
     "output_type": "execute_result"
    }
   ],
   "source": [
    "import pandas as pd\n",
    "#!wget 'https://raw.githubusercontent.com/yoichiro0903n/blue/main/cars.csv'\n",
    "jsonfile = '01simple.json'\n",
    "df = pd.read_json(jsonfile)\n",
    "df\n"
   ]
  },
  {
   "attachments": {},
   "cell_type": "markdown",
   "id": "20c29296",
   "metadata": {},
   "source": [
    "pandasでJSON文字列・ファイルを読み込み（read_json） | note.nkmk.me https://note.nkmk.me/python-pandas-read-json/"
   ]
  },
  {
   "attachments": {},
   "cell_type": "markdown",
   "id": "b909f71f",
   "metadata": {},
   "source": [
    "## ②ネスト構造のJSON"
   ]
  },
  {
   "attachments": {},
   "cell_type": "markdown",
   "id": "0ad63ca5",
   "metadata": {},
   "source": [
    "pd.read_jsonだとうまく読めない"
   ]
  },
  {
   "cell_type": "code",
   "execution_count": 2,
   "id": "7def7ac0",
   "metadata": {},
   "outputs": [
    {
     "data": {
      "text/html": [
       "<div>\n",
       "<style scoped>\n",
       "    .dataframe tbody tr th:only-of-type {\n",
       "        vertical-align: middle;\n",
       "    }\n",
       "\n",
       "    .dataframe tbody tr th {\n",
       "        vertical-align: top;\n",
       "    }\n",
       "\n",
       "    .dataframe thead th {\n",
       "        text-align: right;\n",
       "    }\n",
       "</style>\n",
       "<table border=\"1\" class=\"dataframe\">\n",
       "  <thead>\n",
       "    <tr style=\"text-align: right;\">\n",
       "      <th></th>\n",
       "      <th>id</th>\n",
       "      <th>sensor</th>\n",
       "      <th>code</th>\n",
       "    </tr>\n",
       "  </thead>\n",
       "  <tbody>\n",
       "    <tr>\n",
       "      <th>0</th>\n",
       "      <td>{'M_CD': 1000, 'UP_TIME': 0}</td>\n",
       "      <td>{'POWER': 948, 'TEMP': 250}</td>\n",
       "      <td>NaN</td>\n",
       "    </tr>\n",
       "    <tr>\n",
       "      <th>1</th>\n",
       "      <td>{'M_CD': 1000, 'UP_TIME': 1}</td>\n",
       "      <td>{'POWER': 945, 'TEMP': 251}</td>\n",
       "      <td>{'ERR_CD': 1}</td>\n",
       "    </tr>\n",
       "  </tbody>\n",
       "</table>\n",
       "</div>"
      ],
      "text/plain": [
       "                             id                       sensor           code\n",
       "0  {'M_CD': 1000, 'UP_TIME': 0}  {'POWER': 948, 'TEMP': 250}            NaN\n",
       "1  {'M_CD': 1000, 'UP_TIME': 1}  {'POWER': 945, 'TEMP': 251}  {'ERR_CD': 1}"
      ]
     },
     "execution_count": 2,
     "metadata": {},
     "output_type": "execute_result"
    }
   ],
   "source": [
    "jsonfile='02notnormal.json'\n",
    "df=pd.read_json(jsonfile)\n",
    "df"
   ]
  },
  {
   "cell_type": "markdown",
   "id": "36f52d15",
   "metadata": {},
   "source": [
    "pd.json_normalizeを使う"
   ]
  },
  {
   "cell_type": "code",
   "execution_count": 3,
   "id": "6307cde6",
   "metadata": {},
   "outputs": [
    {
     "data": {
      "text/html": [
       "<div>\n",
       "<style scoped>\n",
       "    .dataframe tbody tr th:only-of-type {\n",
       "        vertical-align: middle;\n",
       "    }\n",
       "\n",
       "    .dataframe tbody tr th {\n",
       "        vertical-align: top;\n",
       "    }\n",
       "\n",
       "    .dataframe thead th {\n",
       "        text-align: right;\n",
       "    }\n",
       "</style>\n",
       "<table border=\"1\" class=\"dataframe\">\n",
       "  <thead>\n",
       "    <tr style=\"text-align: right;\">\n",
       "      <th></th>\n",
       "      <th>id.M_CD</th>\n",
       "      <th>id.UP_TIME</th>\n",
       "      <th>sensor.POWER</th>\n",
       "      <th>sensor.TEMP</th>\n",
       "      <th>code.ERR_CD</th>\n",
       "    </tr>\n",
       "  </thead>\n",
       "  <tbody>\n",
       "    <tr>\n",
       "      <th>0</th>\n",
       "      <td>1000</td>\n",
       "      <td>0</td>\n",
       "      <td>948</td>\n",
       "      <td>250</td>\n",
       "      <td>NaN</td>\n",
       "    </tr>\n",
       "    <tr>\n",
       "      <th>1</th>\n",
       "      <td>1000</td>\n",
       "      <td>1</td>\n",
       "      <td>945</td>\n",
       "      <td>251</td>\n",
       "      <td>1.0</td>\n",
       "    </tr>\n",
       "  </tbody>\n",
       "</table>\n",
       "</div>"
      ],
      "text/plain": [
       "   id.M_CD  id.UP_TIME  sensor.POWER  sensor.TEMP  code.ERR_CD\n",
       "0     1000           0           948          250          NaN\n",
       "1     1000           1           945          251          1.0"
      ]
     },
     "execution_count": 3,
     "metadata": {},
     "output_type": "execute_result"
    }
   ],
   "source": [
    "import json\n",
    "jsonfile='02notnormal.json'\n",
    "with open(jsonfile, encoding='utf-8') as f:\n",
    "    d = json.load(f)\n",
    "#print(d)\n",
    "df=pd.json_normalize(d)\n",
    "df"
   ]
  },
  {
   "attachments": {},
   "cell_type": "markdown",
   "id": "a24ce229",
   "metadata": {},
   "source": [
    "PandasでJSON形式の列データを複数列に展開する - そうなんでげす https://www.soudegesu.com/post/python/flatten-json-column-with-pandas/"
   ]
  },
  {
   "attachments": {},
   "cell_type": "markdown",
   "id": "cc6a70be",
   "metadata": {},
   "source": [
    "### ③ネスト構造とリストを含むJSON"
   ]
  },
  {
   "attachments": {},
   "cell_type": "markdown",
   "id": "d3a82ab2",
   "metadata": {},
   "source": [
    "pd.read_jsonだとネスト構造が展開されない"
   ]
  },
  {
   "cell_type": "code",
   "execution_count": 4,
   "id": "632bd45e",
   "metadata": {},
   "outputs": [
    {
     "data": {
      "text/html": [
       "<div>\n",
       "<style scoped>\n",
       "    .dataframe tbody tr th:only-of-type {\n",
       "        vertical-align: middle;\n",
       "    }\n",
       "\n",
       "    .dataframe tbody tr th {\n",
       "        vertical-align: top;\n",
       "    }\n",
       "\n",
       "    .dataframe thead th {\n",
       "        text-align: right;\n",
       "    }\n",
       "</style>\n",
       "<table border=\"1\" class=\"dataframe\">\n",
       "  <thead>\n",
       "    <tr style=\"text-align: right;\">\n",
       "      <th></th>\n",
       "      <th>id</th>\n",
       "      <th>sensor</th>\n",
       "      <th>code</th>\n",
       "    </tr>\n",
       "  </thead>\n",
       "  <tbody>\n",
       "    <tr>\n",
       "      <th>0</th>\n",
       "      <td>{'M_CD': 1000, 'UP_TIME': 0}</td>\n",
       "      <td>{'POWER': 948, 'TEMP': 250}</td>\n",
       "      <td>NaN</td>\n",
       "    </tr>\n",
       "    <tr>\n",
       "      <th>1</th>\n",
       "      <td>{'M_CD': 1000, 'UP_TIME': 1}</td>\n",
       "      <td>{'POWER': 945, 'TEMP': 251}</td>\n",
       "      <td>[{'ERR_CD': 1, 'MESSAGE': 'part1'}]</td>\n",
       "    </tr>\n",
       "    <tr>\n",
       "      <th>2</th>\n",
       "      <td>{'M_CD': 1000, 'UP_TIME': 2}</td>\n",
       "      <td>{'POWER': 943, 'TEMP': 255}</td>\n",
       "      <td>[{'ERR_CD': 2, 'MESSAGE': 'part2'}, {'ERR_CD':...</td>\n",
       "    </tr>\n",
       "  </tbody>\n",
       "</table>\n",
       "</div>"
      ],
      "text/plain": [
       "                             id                       sensor  \\\n",
       "0  {'M_CD': 1000, 'UP_TIME': 0}  {'POWER': 948, 'TEMP': 250}   \n",
       "1  {'M_CD': 1000, 'UP_TIME': 1}  {'POWER': 945, 'TEMP': 251}   \n",
       "2  {'M_CD': 1000, 'UP_TIME': 2}  {'POWER': 943, 'TEMP': 255}   \n",
       "\n",
       "                                                code  \n",
       "0                                                NaN  \n",
       "1                [{'ERR_CD': 1, 'MESSAGE': 'part1'}]  \n",
       "2  [{'ERR_CD': 2, 'MESSAGE': 'part2'}, {'ERR_CD':...  "
      ]
     },
     "execution_count": 4,
     "metadata": {},
     "output_type": "execute_result"
    }
   ],
   "source": [
    "jsonfile='03list.json'\n",
    "df=pd.read_json(jsonfile)\n",
    "df"
   ]
  },
  {
   "attachments": {},
   "cell_type": "markdown",
   "id": "078a371e",
   "metadata": {},
   "source": [
    "pd.json_normalizeではリスト構造が残ってしまう"
   ]
  },
  {
   "cell_type": "code",
   "execution_count": 5,
   "id": "0d67edf4",
   "metadata": {},
   "outputs": [
    {
     "data": {
      "text/html": [
       "<div>\n",
       "<style scoped>\n",
       "    .dataframe tbody tr th:only-of-type {\n",
       "        vertical-align: middle;\n",
       "    }\n",
       "\n",
       "    .dataframe tbody tr th {\n",
       "        vertical-align: top;\n",
       "    }\n",
       "\n",
       "    .dataframe thead th {\n",
       "        text-align: right;\n",
       "    }\n",
       "</style>\n",
       "<table border=\"1\" class=\"dataframe\">\n",
       "  <thead>\n",
       "    <tr style=\"text-align: right;\">\n",
       "      <th></th>\n",
       "      <th>id.M_CD</th>\n",
       "      <th>id.UP_TIME</th>\n",
       "      <th>sensor.POWER</th>\n",
       "      <th>sensor.TEMP</th>\n",
       "      <th>code</th>\n",
       "    </tr>\n",
       "  </thead>\n",
       "  <tbody>\n",
       "    <tr>\n",
       "      <th>0</th>\n",
       "      <td>1000</td>\n",
       "      <td>0</td>\n",
       "      <td>948</td>\n",
       "      <td>250</td>\n",
       "      <td>NaN</td>\n",
       "    </tr>\n",
       "    <tr>\n",
       "      <th>1</th>\n",
       "      <td>1000</td>\n",
       "      <td>1</td>\n",
       "      <td>945</td>\n",
       "      <td>251</td>\n",
       "      <td>[{'ERR_CD': 1, 'MESSAGE': 'part1'}]</td>\n",
       "    </tr>\n",
       "    <tr>\n",
       "      <th>2</th>\n",
       "      <td>1000</td>\n",
       "      <td>2</td>\n",
       "      <td>943</td>\n",
       "      <td>255</td>\n",
       "      <td>[{'ERR_CD': 2, 'MESSAGE': 'part2'}, {'ERR_CD':...</td>\n",
       "    </tr>\n",
       "  </tbody>\n",
       "</table>\n",
       "</div>"
      ],
      "text/plain": [
       "   id.M_CD  id.UP_TIME  sensor.POWER  sensor.TEMP  \\\n",
       "0     1000           0           948          250   \n",
       "1     1000           1           945          251   \n",
       "2     1000           2           943          255   \n",
       "\n",
       "                                                code  \n",
       "0                                                NaN  \n",
       "1                [{'ERR_CD': 1, 'MESSAGE': 'part1'}]  \n",
       "2  [{'ERR_CD': 2, 'MESSAGE': 'part2'}, {'ERR_CD':...  "
      ]
     },
     "execution_count": 5,
     "metadata": {},
     "output_type": "execute_result"
    }
   ],
   "source": [
    "import json\n",
    "jsonfile='03list.json'\n",
    "with open(jsonfile, encoding='utf-8') as f:\n",
    "    d = json.load(f)\n",
    "#print(d)\n",
    "df=pd.json_normalize(d)\n",
    "df"
   ]
  },
  {
   "attachments": {},
   "cell_type": "markdown",
   "id": "319bbb02",
   "metadata": {},
   "source": [
    "リストをフラット化するサンプルプログラム"
   ]
  },
  {
   "cell_type": "code",
   "execution_count": 6,
   "id": "f886eec4",
   "metadata": {},
   "outputs": [
    {
     "data": {
      "text/html": [
       "<div>\n",
       "<style scoped>\n",
       "    .dataframe tbody tr th:only-of-type {\n",
       "        vertical-align: middle;\n",
       "    }\n",
       "\n",
       "    .dataframe tbody tr th {\n",
       "        vertical-align: top;\n",
       "    }\n",
       "\n",
       "    .dataframe thead th {\n",
       "        text-align: right;\n",
       "    }\n",
       "</style>\n",
       "<table border=\"1\" class=\"dataframe\">\n",
       "  <thead>\n",
       "    <tr style=\"text-align: right;\">\n",
       "      <th></th>\n",
       "      <th>id.M_CD</th>\n",
       "      <th>id.UP_TIME</th>\n",
       "      <th>sensor.POWER</th>\n",
       "      <th>sensor.TEMP</th>\n",
       "      <th>code.0.ERR_CD</th>\n",
       "      <th>code.0.MESSAGE</th>\n",
       "      <th>code.1.ERR_CD</th>\n",
       "      <th>code.1.MESSAGE</th>\n",
       "    </tr>\n",
       "  </thead>\n",
       "  <tbody>\n",
       "    <tr>\n",
       "      <th>0</th>\n",
       "      <td>1000</td>\n",
       "      <td>0</td>\n",
       "      <td>948</td>\n",
       "      <td>250</td>\n",
       "      <td>NaN</td>\n",
       "      <td>NaN</td>\n",
       "      <td>NaN</td>\n",
       "      <td>NaN</td>\n",
       "    </tr>\n",
       "    <tr>\n",
       "      <th>1</th>\n",
       "      <td>1000</td>\n",
       "      <td>1</td>\n",
       "      <td>945</td>\n",
       "      <td>251</td>\n",
       "      <td>1.0</td>\n",
       "      <td>part1</td>\n",
       "      <td>NaN</td>\n",
       "      <td>NaN</td>\n",
       "    </tr>\n",
       "    <tr>\n",
       "      <th>2</th>\n",
       "      <td>1000</td>\n",
       "      <td>2</td>\n",
       "      <td>943</td>\n",
       "      <td>255</td>\n",
       "      <td>2.0</td>\n",
       "      <td>part2</td>\n",
       "      <td>3.0</td>\n",
       "      <td>part3</td>\n",
       "    </tr>\n",
       "  </tbody>\n",
       "</table>\n",
       "</div>"
      ],
      "text/plain": [
       "   id.M_CD  id.UP_TIME  sensor.POWER  sensor.TEMP  code.0.ERR_CD  \\\n",
       "0     1000           0           948          250            NaN   \n",
       "1     1000           1           945          251            1.0   \n",
       "2     1000           2           943          255            2.0   \n",
       "\n",
       "  code.0.MESSAGE  code.1.ERR_CD code.1.MESSAGE  \n",
       "0            NaN            NaN            NaN  \n",
       "1          part1            NaN            NaN  \n",
       "2          part2            3.0          part3  "
      ]
     },
     "execution_count": 6,
     "metadata": {},
     "output_type": "execute_result"
    }
   ],
   "source": [
    "# 入力JSONファイル名\n",
    "import pandas as pd\n",
    "import json\n",
    "jsonfile = '03list.json'\n",
    "# 列をフラット化する際の区切り文字\n",
    "sep = '.'\n",
    "\n",
    "\n",
    "# フラット化\n",
    "def flatten(d, parent_key='', sep='.'):\n",
    "    items = []\n",
    "    for k, v in d.items():\n",
    "        # 列名の生成\n",
    "        new_key = parent_key + sep + k if parent_key else k\n",
    "        # 辞書型項目のフラット化\n",
    "        if isinstance(v, dict):\n",
    "            items.extend(flatten(v, new_key, sep=sep).items())\n",
    "        # リスト項目のフラット化\n",
    "        elif isinstance(v, list):\n",
    "            new_key_tmp = new_key\n",
    "            for i, elm in enumerate(v):\n",
    "                new_key = new_key_tmp + sep + str(i)\n",
    "                # リストの中の辞書\n",
    "                if isinstance(elm, dict):\n",
    "                    items.extend(flatten(elm, new_key, sep=sep).items())\n",
    "                # 単なるリスト\n",
    "                else:\n",
    "                    items.append((new_key, elm))\n",
    "        # 値追加\n",
    "        else:\n",
    "            items.append((new_key, v))\n",
    "    return dict(items)\n",
    "\n",
    "\n",
    "# JSONファイルを読込\n",
    "with open(jsonfile, encoding='utf-8') as f:\n",
    "    d = json.load(f)\n",
    "\n",
    "\n",
    "# フラット化\n",
    "dlist = []\n",
    "for di in d:\n",
    "    dlist.append(flatten(di, sep=sep))\n",
    "\n",
    "# print(dlist)\n",
    "# フラット化された辞書をpandasデータフレームに変換\n",
    "df = pd.DataFrame.from_dict(dlist)\n",
    "df\n"
   ]
  },
  {
   "attachments": {},
   "cell_type": "markdown",
   "id": "4ecd2ace",
   "metadata": {},
   "source": [
    "python - How to flatten multilevel/nested JSON? - Stack Overflow https://stackoverflow.com/questions/51359783/how-to-flatten-multilevel-nested-json"
   ]
  },
  {
   "attachments": {},
   "cell_type": "markdown",
   "id": "8f0af3be",
   "metadata": {},
   "source": [
    "## ④ルートが読み出しルートではないJSON"
   ]
  },
  {
   "attachments": {},
   "cell_type": "markdown",
   "id": "de52a64e",
   "metadata": {},
   "source": [
    "pd.read_jsonだとネスト構造が展開されない"
   ]
  },
  {
   "cell_type": "code",
   "execution_count": 7,
   "id": "a61b7195",
   "metadata": {},
   "outputs": [
    {
     "data": {
      "text/html": [
       "<div>\n",
       "<style scoped>\n",
       "    .dataframe tbody tr th:only-of-type {\n",
       "        vertical-align: middle;\n",
       "    }\n",
       "\n",
       "    .dataframe tbody tr th {\n",
       "        vertical-align: top;\n",
       "    }\n",
       "\n",
       "    .dataframe thead th {\n",
       "        text-align: right;\n",
       "    }\n",
       "</style>\n",
       "<table border=\"1\" class=\"dataframe\">\n",
       "  <thead>\n",
       "    <tr style=\"text-align: right;\">\n",
       "      <th></th>\n",
       "      <th>total_rows</th>\n",
       "      <th>rows</th>\n",
       "    </tr>\n",
       "  </thead>\n",
       "  <tbody>\n",
       "    <tr>\n",
       "      <th>0</th>\n",
       "      <td>3</td>\n",
       "      <td>{'id': {'M_CD': 1000, 'UP_TIME': 0}, 'sensor':...</td>\n",
       "    </tr>\n",
       "    <tr>\n",
       "      <th>1</th>\n",
       "      <td>3</td>\n",
       "      <td>{'id': {'M_CD': 1000, 'UP_TIME': 1}, 'sensor':...</td>\n",
       "    </tr>\n",
       "    <tr>\n",
       "      <th>2</th>\n",
       "      <td>3</td>\n",
       "      <td>{'id': {'M_CD': 1000, 'UP_TIME': 2}, 'sensor':...</td>\n",
       "    </tr>\n",
       "  </tbody>\n",
       "</table>\n",
       "</div>"
      ],
      "text/plain": [
       "   total_rows                                               rows\n",
       "0           3  {'id': {'M_CD': 1000, 'UP_TIME': 0}, 'sensor':...\n",
       "1           3  {'id': {'M_CD': 1000, 'UP_TIME': 1}, 'sensor':...\n",
       "2           3  {'id': {'M_CD': 1000, 'UP_TIME': 2}, 'sensor':..."
      ]
     },
     "execution_count": 7,
     "metadata": {},
     "output_type": "execute_result"
    }
   ],
   "source": [
    "jsonfile='04notroot.json'\n",
    "df=pd.read_json(jsonfile)\n",
    "df"
   ]
  },
  {
   "attachments": {},
   "cell_type": "markdown",
   "id": "a5f5a71a",
   "metadata": {},
   "source": [
    "pd.json_normalizeだとリストが展開されない。"
   ]
  },
  {
   "cell_type": "code",
   "execution_count": 8,
   "id": "c89bcd07",
   "metadata": {},
   "outputs": [
    {
     "data": {
      "text/html": [
       "<div>\n",
       "<style scoped>\n",
       "    .dataframe tbody tr th:only-of-type {\n",
       "        vertical-align: middle;\n",
       "    }\n",
       "\n",
       "    .dataframe tbody tr th {\n",
       "        vertical-align: top;\n",
       "    }\n",
       "\n",
       "    .dataframe thead th {\n",
       "        text-align: right;\n",
       "    }\n",
       "</style>\n",
       "<table border=\"1\" class=\"dataframe\">\n",
       "  <thead>\n",
       "    <tr style=\"text-align: right;\">\n",
       "      <th></th>\n",
       "      <th>total_rows</th>\n",
       "      <th>rows</th>\n",
       "    </tr>\n",
       "  </thead>\n",
       "  <tbody>\n",
       "    <tr>\n",
       "      <th>0</th>\n",
       "      <td>3</td>\n",
       "      <td>[{'id': {'M_CD': 1000, 'UP_TIME': 0}, 'sensor'...</td>\n",
       "    </tr>\n",
       "  </tbody>\n",
       "</table>\n",
       "</div>"
      ],
      "text/plain": [
       "   total_rows                                               rows\n",
       "0           3  [{'id': {'M_CD': 1000, 'UP_TIME': 0}, 'sensor'..."
      ]
     },
     "execution_count": 8,
     "metadata": {},
     "output_type": "execute_result"
    }
   ],
   "source": [
    "import json\n",
    "jsonfile='04notroot.json'\n",
    "with open(jsonfile, encoding='utf-8') as f:\n",
    "    d = json.load(f)\n",
    "#print(d)\n",
    "df=pd.json_normalize(d)\n",
    "df"
   ]
  },
  {
   "attachments": {},
   "cell_type": "markdown",
   "id": "2c01d415",
   "metadata": {},
   "source": [
    "flattenだと3行に展開されない"
   ]
  },
  {
   "cell_type": "code",
   "execution_count": 9,
   "id": "1969e690",
   "metadata": {},
   "outputs": [
    {
     "data": {
      "text/html": [
       "<div>\n",
       "<style scoped>\n",
       "    .dataframe tbody tr th:only-of-type {\n",
       "        vertical-align: middle;\n",
       "    }\n",
       "\n",
       "    .dataframe tbody tr th {\n",
       "        vertical-align: top;\n",
       "    }\n",
       "\n",
       "    .dataframe thead th {\n",
       "        text-align: right;\n",
       "    }\n",
       "</style>\n",
       "<table border=\"1\" class=\"dataframe\">\n",
       "  <thead>\n",
       "    <tr style=\"text-align: right;\">\n",
       "      <th></th>\n",
       "      <th>total_rows</th>\n",
       "      <th>rows.0.id.M_CD</th>\n",
       "      <th>rows.0.id.UP_TIME</th>\n",
       "      <th>rows.0.sensor.POWER</th>\n",
       "      <th>rows.0.sensor.TEMP</th>\n",
       "      <th>rows.1.id.M_CD</th>\n",
       "      <th>rows.1.id.UP_TIME</th>\n",
       "      <th>rows.1.sensor.POWER</th>\n",
       "      <th>rows.1.sensor.TEMP</th>\n",
       "      <th>rows.1.code.0.ERR_CD</th>\n",
       "      <th>rows.1.code.0.MESSAGE</th>\n",
       "      <th>rows.2.id.M_CD</th>\n",
       "      <th>rows.2.id.UP_TIME</th>\n",
       "      <th>rows.2.sensor.POWER</th>\n",
       "      <th>rows.2.sensor.TEMP</th>\n",
       "      <th>rows.2.code.0.ERR_CD</th>\n",
       "      <th>rows.2.code.0.MESSAGE</th>\n",
       "      <th>rows.2.code.1.ERR_CD</th>\n",
       "      <th>rows.2.code.1.MESSAGE</th>\n",
       "      <th>rows.2.isActive</th>\n",
       "    </tr>\n",
       "  </thead>\n",
       "  <tbody>\n",
       "    <tr>\n",
       "      <th>0</th>\n",
       "      <td>3</td>\n",
       "      <td>1000</td>\n",
       "      <td>0</td>\n",
       "      <td>948</td>\n",
       "      <td>250</td>\n",
       "      <td>1000</td>\n",
       "      <td>1</td>\n",
       "      <td>945</td>\n",
       "      <td>251</td>\n",
       "      <td>1</td>\n",
       "      <td>part1</td>\n",
       "      <td>1000</td>\n",
       "      <td>2</td>\n",
       "      <td>943</td>\n",
       "      <td>255</td>\n",
       "      <td>2</td>\n",
       "      <td>part2</td>\n",
       "      <td>3</td>\n",
       "      <td>part3</td>\n",
       "      <td>False</td>\n",
       "    </tr>\n",
       "  </tbody>\n",
       "</table>\n",
       "</div>"
      ],
      "text/plain": [
       "   total_rows  rows.0.id.M_CD  rows.0.id.UP_TIME  rows.0.sensor.POWER  \\\n",
       "0           3            1000                  0                  948   \n",
       "\n",
       "   rows.0.sensor.TEMP  rows.1.id.M_CD  rows.1.id.UP_TIME  rows.1.sensor.POWER  \\\n",
       "0                 250            1000                  1                  945   \n",
       "\n",
       "   rows.1.sensor.TEMP  rows.1.code.0.ERR_CD rows.1.code.0.MESSAGE  \\\n",
       "0                 251                     1                 part1   \n",
       "\n",
       "   rows.2.id.M_CD  rows.2.id.UP_TIME  rows.2.sensor.POWER  rows.2.sensor.TEMP  \\\n",
       "0            1000                  2                  943                 255   \n",
       "\n",
       "   rows.2.code.0.ERR_CD rows.2.code.0.MESSAGE  rows.2.code.1.ERR_CD  \\\n",
       "0                     2                 part2                     3   \n",
       "\n",
       "  rows.2.code.1.MESSAGE  rows.2.isActive  \n",
       "0                 part3            False  "
      ]
     },
     "execution_count": 9,
     "metadata": {},
     "output_type": "execute_result"
    }
   ],
   "source": [
    "\n",
    "#フラット化された辞書をpandasデータフレームに変換\n",
    "df = pd.DataFrame.from_dict([flatten(d, sep=sep)])\n",
    "df"
   ]
  },
  {
   "attachments": {},
   "cell_type": "markdown",
   "id": "9387d454",
   "metadata": {},
   "source": [
    "読み出しルートを変更するサンプル"
   ]
  },
  {
   "cell_type": "code",
   "execution_count": 10,
   "id": "886489f5",
   "metadata": {},
   "outputs": [
    {
     "data": {
      "text/html": [
       "<div>\n",
       "<style scoped>\n",
       "    .dataframe tbody tr th:only-of-type {\n",
       "        vertical-align: middle;\n",
       "    }\n",
       "\n",
       "    .dataframe tbody tr th {\n",
       "        vertical-align: top;\n",
       "    }\n",
       "\n",
       "    .dataframe thead th {\n",
       "        text-align: right;\n",
       "    }\n",
       "</style>\n",
       "<table border=\"1\" class=\"dataframe\">\n",
       "  <thead>\n",
       "    <tr style=\"text-align: right;\">\n",
       "      <th></th>\n",
       "      <th>id.M_CD</th>\n",
       "      <th>id.UP_TIME</th>\n",
       "      <th>sensor.POWER</th>\n",
       "      <th>sensor.TEMP</th>\n",
       "      <th>code.0.ERR_CD</th>\n",
       "      <th>code.0.MESSAGE</th>\n",
       "      <th>code.1.ERR_CD</th>\n",
       "      <th>code.1.MESSAGE</th>\n",
       "      <th>isActive</th>\n",
       "    </tr>\n",
       "  </thead>\n",
       "  <tbody>\n",
       "    <tr>\n",
       "      <th>0</th>\n",
       "      <td>1000</td>\n",
       "      <td>0</td>\n",
       "      <td>948</td>\n",
       "      <td>250</td>\n",
       "      <td>NaN</td>\n",
       "      <td>NaN</td>\n",
       "      <td>NaN</td>\n",
       "      <td>NaN</td>\n",
       "      <td>NaN</td>\n",
       "    </tr>\n",
       "    <tr>\n",
       "      <th>1</th>\n",
       "      <td>1000</td>\n",
       "      <td>1</td>\n",
       "      <td>945</td>\n",
       "      <td>251</td>\n",
       "      <td>1.0</td>\n",
       "      <td>part1</td>\n",
       "      <td>NaN</td>\n",
       "      <td>NaN</td>\n",
       "      <td>NaN</td>\n",
       "    </tr>\n",
       "    <tr>\n",
       "      <th>2</th>\n",
       "      <td>1000</td>\n",
       "      <td>2</td>\n",
       "      <td>943</td>\n",
       "      <td>255</td>\n",
       "      <td>2.0</td>\n",
       "      <td>part2</td>\n",
       "      <td>3.0</td>\n",
       "      <td>part3</td>\n",
       "      <td>False</td>\n",
       "    </tr>\n",
       "  </tbody>\n",
       "</table>\n",
       "</div>"
      ],
      "text/plain": [
       "   id.M_CD  id.UP_TIME  sensor.POWER  sensor.TEMP  code.0.ERR_CD  \\\n",
       "0     1000           0           948          250            NaN   \n",
       "1     1000           1           945          251            1.0   \n",
       "2     1000           2           943          255            2.0   \n",
       "\n",
       "  code.0.MESSAGE  code.1.ERR_CD code.1.MESSAGE isActive  \n",
       "0            NaN            NaN            NaN      NaN  \n",
       "1          part1            NaN            NaN      NaN  \n",
       "2          part2            3.0          part3    False  "
      ]
     },
     "execution_count": 10,
     "metadata": {},
     "output_type": "execute_result"
    }
   ],
   "source": [
    "jsonfile = '04notroot.json'\n",
    "rowsroot = \"rows\"\n",
    "# JSONファイルを読込\n",
    "with open(jsonfile, encoding='utf-8') as f:\n",
    "    d = json.load(f)\n",
    "\n",
    "# df化したい辞書リストのルート項目を指定\n",
    "if rowsroot != '':\n",
    "    d = d[rowsroot]\n",
    "\n",
    "# フラット化\n",
    "dlist = []\n",
    "for di in d:\n",
    "    dlist.append(flatten(di, sep=sep))\n",
    "\n",
    "# フラット化された辞書をpandasデータフレームに変換\n",
    "df = pd.DataFrame.from_dict(dlist)\n",
    "df\n"
   ]
  },
  {
   "attachments": {},
   "cell_type": "markdown",
   "id": "409265e3",
   "metadata": {},
   "source": [
    "pandasでJSON文字列・ファイルを読み込み（read_json） | note.nkmk.me https://note.nkmk.me/python-pandas-read-json/"
   ]
  },
  {
   "attachments": {},
   "cell_type": "markdown",
   "id": "f9f02ae9",
   "metadata": {},
   "source": [
    "# JSONファイルのpandasDF化関数（完成版）"
   ]
  },
  {
   "cell_type": "code",
   "execution_count": 11,
   "id": "9c4b7015",
   "metadata": {},
   "outputs": [],
   "source": [
    "\n",
    "import pandas as pd\n",
    "import json\n",
    "\n",
    "# フラット化\n",
    "\n",
    "\n",
    "def flatten(d, parent_key='', sep='.'):\n",
    "    items = []\n",
    "    for k, v in d.items():\n",
    "        # 列名の生成\n",
    "        new_key = parent_key + sep + k if parent_key else k\n",
    "        # 辞書型項目のフラット化\n",
    "        if isinstance(v, dict):\n",
    "            items.extend(flatten(v, new_key, sep=sep).items())\n",
    "        # リスト項目のフラット化\n",
    "        elif isinstance(v, list):\n",
    "            new_key_tmp = new_key\n",
    "            for i, elm in enumerate(v):\n",
    "                new_key = new_key_tmp + sep + str(i)\n",
    "                # リストの中の辞書\n",
    "                if isinstance(elm, dict):\n",
    "                    items.extend(flatten(elm, new_key, sep=sep).items())\n",
    "                # 単なるリスト\n",
    "                else:\n",
    "                    items.append((new_key, elm))\n",
    "        # 値追加\n",
    "        else:\n",
    "            items.append((new_key, v))\n",
    "    return dict(items)\n",
    "\n",
    "\n",
    "def flattenJsonFile(jsonfile, rowsroot, sep='.'):\n",
    "    \"\"\"\n",
    "    JSONファイルを読み込み2次元のpandas DataFrameに変換する\n",
    "\n",
    "    Parameters\n",
    "    ----------\n",
    "    jsonfile : string\n",
    "        JSONファイルパス\n",
    "    rowsroot : string\n",
    "        フラット化するルートエレメント名。トップからでいい場合は空文字を入力する\n",
    "    sep : string\n",
    "        ノーマライズされていないエレメントを区切る文字\n",
    "\n",
    "    Returns\n",
    "    -------\n",
    "    df : pandas.DataFrame\n",
    "        フラット化されたpandas DataFrame\n",
    "    \"\"\"\n",
    "   # JSONファイルを読込\n",
    "    with open(jsonfile, encoding='utf-8') as f:\n",
    "        d = json.load(f)\n",
    "\n",
    "    # df化したい辞書リストのルート項目を指定\n",
    "    if rowsroot != '':\n",
    "        d = d[rowsroot]\n",
    "\n",
    "    # フラット化\n",
    "    dlist = []\n",
    "    for di in d:\n",
    "        dlist.append(flatten(di, sep=sep))\n",
    "\n",
    "    # フラット化された辞書をpandasデータフレームに変換\n",
    "    return pd.DataFrame.from_dict(dlist)\n",
    "\n"
   ]
  },
  {
   "attachments": {},
   "cell_type": "markdown",
   "id": "fe632e04",
   "metadata": {},
   "source": [
    "①から④までのすべてのファイルを処理可能"
   ]
  },
  {
   "cell_type": "code",
   "execution_count": 12,
   "id": "8c53e4a1",
   "metadata": {},
   "outputs": [
    {
     "data": {
      "text/html": [
       "<div>\n",
       "<style scoped>\n",
       "    .dataframe tbody tr th:only-of-type {\n",
       "        vertical-align: middle;\n",
       "    }\n",
       "\n",
       "    .dataframe tbody tr th {\n",
       "        vertical-align: top;\n",
       "    }\n",
       "\n",
       "    .dataframe thead th {\n",
       "        text-align: right;\n",
       "    }\n",
       "</style>\n",
       "<table border=\"1\" class=\"dataframe\">\n",
       "  <thead>\n",
       "    <tr style=\"text-align: right;\">\n",
       "      <th></th>\n",
       "      <th>id</th>\n",
       "      <th>UP_TIME</th>\n",
       "      <th>POWER</th>\n",
       "      <th>TEMP</th>\n",
       "      <th>ERR_CD</th>\n",
       "    </tr>\n",
       "  </thead>\n",
       "  <tbody>\n",
       "    <tr>\n",
       "      <th>0</th>\n",
       "      <td>1000</td>\n",
       "      <td>0</td>\n",
       "      <td>948</td>\n",
       "      <td>250</td>\n",
       "      <td>NaN</td>\n",
       "    </tr>\n",
       "    <tr>\n",
       "      <th>1</th>\n",
       "      <td>1000</td>\n",
       "      <td>1</td>\n",
       "      <td>945</td>\n",
       "      <td>251</td>\n",
       "      <td>1.0</td>\n",
       "    </tr>\n",
       "  </tbody>\n",
       "</table>\n",
       "</div>"
      ],
      "text/plain": [
       "     id  UP_TIME  POWER  TEMP  ERR_CD\n",
       "0  1000        0    948   250     NaN\n",
       "1  1000        1    945   251     1.0"
      ]
     },
     "execution_count": 12,
     "metadata": {},
     "output_type": "execute_result"
    }
   ],
   "source": [
    "flattenJsonFile('01simple.json','','.')"
   ]
  },
  {
   "cell_type": "code",
   "execution_count": 13,
   "id": "dddf8c66",
   "metadata": {},
   "outputs": [
    {
     "data": {
      "text/html": [
       "<div>\n",
       "<style scoped>\n",
       "    .dataframe tbody tr th:only-of-type {\n",
       "        vertical-align: middle;\n",
       "    }\n",
       "\n",
       "    .dataframe tbody tr th {\n",
       "        vertical-align: top;\n",
       "    }\n",
       "\n",
       "    .dataframe thead th {\n",
       "        text-align: right;\n",
       "    }\n",
       "</style>\n",
       "<table border=\"1\" class=\"dataframe\">\n",
       "  <thead>\n",
       "    <tr style=\"text-align: right;\">\n",
       "      <th></th>\n",
       "      <th>id.M_CD</th>\n",
       "      <th>id.UP_TIME</th>\n",
       "      <th>sensor.POWER</th>\n",
       "      <th>sensor.TEMP</th>\n",
       "      <th>code.ERR_CD</th>\n",
       "    </tr>\n",
       "  </thead>\n",
       "  <tbody>\n",
       "    <tr>\n",
       "      <th>0</th>\n",
       "      <td>1000</td>\n",
       "      <td>0</td>\n",
       "      <td>948</td>\n",
       "      <td>250</td>\n",
       "      <td>NaN</td>\n",
       "    </tr>\n",
       "    <tr>\n",
       "      <th>1</th>\n",
       "      <td>1000</td>\n",
       "      <td>1</td>\n",
       "      <td>945</td>\n",
       "      <td>251</td>\n",
       "      <td>1.0</td>\n",
       "    </tr>\n",
       "  </tbody>\n",
       "</table>\n",
       "</div>"
      ],
      "text/plain": [
       "   id.M_CD  id.UP_TIME  sensor.POWER  sensor.TEMP  code.ERR_CD\n",
       "0     1000           0           948          250          NaN\n",
       "1     1000           1           945          251          1.0"
      ]
     },
     "execution_count": 13,
     "metadata": {},
     "output_type": "execute_result"
    }
   ],
   "source": [
    "flattenJsonFile('02notnormal.json','','.')"
   ]
  },
  {
   "cell_type": "code",
   "execution_count": 14,
   "id": "3d7e1471",
   "metadata": {},
   "outputs": [
    {
     "data": {
      "text/html": [
       "<div>\n",
       "<style scoped>\n",
       "    .dataframe tbody tr th:only-of-type {\n",
       "        vertical-align: middle;\n",
       "    }\n",
       "\n",
       "    .dataframe tbody tr th {\n",
       "        vertical-align: top;\n",
       "    }\n",
       "\n",
       "    .dataframe thead th {\n",
       "        text-align: right;\n",
       "    }\n",
       "</style>\n",
       "<table border=\"1\" class=\"dataframe\">\n",
       "  <thead>\n",
       "    <tr style=\"text-align: right;\">\n",
       "      <th></th>\n",
       "      <th>id.M_CD</th>\n",
       "      <th>id.UP_TIME</th>\n",
       "      <th>sensor.POWER</th>\n",
       "      <th>sensor.TEMP</th>\n",
       "      <th>code.0.ERR_CD</th>\n",
       "      <th>code.0.MESSAGE</th>\n",
       "      <th>code.1.ERR_CD</th>\n",
       "      <th>code.1.MESSAGE</th>\n",
       "    </tr>\n",
       "  </thead>\n",
       "  <tbody>\n",
       "    <tr>\n",
       "      <th>0</th>\n",
       "      <td>1000</td>\n",
       "      <td>0</td>\n",
       "      <td>948</td>\n",
       "      <td>250</td>\n",
       "      <td>NaN</td>\n",
       "      <td>NaN</td>\n",
       "      <td>NaN</td>\n",
       "      <td>NaN</td>\n",
       "    </tr>\n",
       "    <tr>\n",
       "      <th>1</th>\n",
       "      <td>1000</td>\n",
       "      <td>1</td>\n",
       "      <td>945</td>\n",
       "      <td>251</td>\n",
       "      <td>1.0</td>\n",
       "      <td>part1</td>\n",
       "      <td>NaN</td>\n",
       "      <td>NaN</td>\n",
       "    </tr>\n",
       "    <tr>\n",
       "      <th>2</th>\n",
       "      <td>1000</td>\n",
       "      <td>2</td>\n",
       "      <td>943</td>\n",
       "      <td>255</td>\n",
       "      <td>2.0</td>\n",
       "      <td>part2</td>\n",
       "      <td>3.0</td>\n",
       "      <td>part3</td>\n",
       "    </tr>\n",
       "  </tbody>\n",
       "</table>\n",
       "</div>"
      ],
      "text/plain": [
       "   id.M_CD  id.UP_TIME  sensor.POWER  sensor.TEMP  code.0.ERR_CD  \\\n",
       "0     1000           0           948          250            NaN   \n",
       "1     1000           1           945          251            1.0   \n",
       "2     1000           2           943          255            2.0   \n",
       "\n",
       "  code.0.MESSAGE  code.1.ERR_CD code.1.MESSAGE  \n",
       "0            NaN            NaN            NaN  \n",
       "1          part1            NaN            NaN  \n",
       "2          part2            3.0          part3  "
      ]
     },
     "execution_count": 14,
     "metadata": {},
     "output_type": "execute_result"
    }
   ],
   "source": [
    "flattenJsonFile('03list.json','','.')"
   ]
  },
  {
   "cell_type": "code",
   "execution_count": 15,
   "id": "f41e9ee8",
   "metadata": {},
   "outputs": [
    {
     "data": {
      "text/html": [
       "<div>\n",
       "<style scoped>\n",
       "    .dataframe tbody tr th:only-of-type {\n",
       "        vertical-align: middle;\n",
       "    }\n",
       "\n",
       "    .dataframe tbody tr th {\n",
       "        vertical-align: top;\n",
       "    }\n",
       "\n",
       "    .dataframe thead th {\n",
       "        text-align: right;\n",
       "    }\n",
       "</style>\n",
       "<table border=\"1\" class=\"dataframe\">\n",
       "  <thead>\n",
       "    <tr style=\"text-align: right;\">\n",
       "      <th></th>\n",
       "      <th>id.M_CD</th>\n",
       "      <th>id.UP_TIME</th>\n",
       "      <th>sensor.POWER</th>\n",
       "      <th>sensor.TEMP</th>\n",
       "      <th>code.0.ERR_CD</th>\n",
       "      <th>code.0.MESSAGE</th>\n",
       "      <th>code.1.ERR_CD</th>\n",
       "      <th>code.1.MESSAGE</th>\n",
       "      <th>isActive</th>\n",
       "    </tr>\n",
       "  </thead>\n",
       "  <tbody>\n",
       "    <tr>\n",
       "      <th>0</th>\n",
       "      <td>1000</td>\n",
       "      <td>0</td>\n",
       "      <td>948</td>\n",
       "      <td>250</td>\n",
       "      <td>NaN</td>\n",
       "      <td>NaN</td>\n",
       "      <td>NaN</td>\n",
       "      <td>NaN</td>\n",
       "      <td>NaN</td>\n",
       "    </tr>\n",
       "    <tr>\n",
       "      <th>1</th>\n",
       "      <td>1000</td>\n",
       "      <td>1</td>\n",
       "      <td>945</td>\n",
       "      <td>251</td>\n",
       "      <td>1.0</td>\n",
       "      <td>part1</td>\n",
       "      <td>NaN</td>\n",
       "      <td>NaN</td>\n",
       "      <td>NaN</td>\n",
       "    </tr>\n",
       "    <tr>\n",
       "      <th>2</th>\n",
       "      <td>1000</td>\n",
       "      <td>2</td>\n",
       "      <td>943</td>\n",
       "      <td>255</td>\n",
       "      <td>2.0</td>\n",
       "      <td>part2</td>\n",
       "      <td>3.0</td>\n",
       "      <td>part3</td>\n",
       "      <td>False</td>\n",
       "    </tr>\n",
       "  </tbody>\n",
       "</table>\n",
       "</div>"
      ],
      "text/plain": [
       "   id.M_CD  id.UP_TIME  sensor.POWER  sensor.TEMP  code.0.ERR_CD  \\\n",
       "0     1000           0           948          250            NaN   \n",
       "1     1000           1           945          251            1.0   \n",
       "2     1000           2           943          255            2.0   \n",
       "\n",
       "  code.0.MESSAGE  code.1.ERR_CD code.1.MESSAGE isActive  \n",
       "0            NaN            NaN            NaN      NaN  \n",
       "1          part1            NaN            NaN      NaN  \n",
       "2          part2            3.0          part3    False  "
      ]
     },
     "execution_count": 15,
     "metadata": {},
     "output_type": "execute_result"
    }
   ],
   "source": [
    "\n",
    "\n",
    "flattenJsonFile('04notroot.json','rows','.')"
   ]
  },
  {
   "cell_type": "code",
   "execution_count": 16,
   "id": "c526f8cd",
   "metadata": {},
   "outputs": [
    {
     "name": "stdout",
     "output_type": "stream",
     "text": [
      "3.8.10 (tags/v3.8.10:3d8993a, May  3 2021, 11:48:03) [MSC v.1928 64 bit (AMD64)]\n",
      "1.5.2\n",
      "2.0.9\n"
     ]
    }
   ],
   "source": [
    "import sys\n",
    "\n",
    "print(sys.version)\n",
    "print(pd.__version__)\n",
    "import json\n",
    "print(json.__version__)\n"
   ]
  },
  {
   "cell_type": "code",
   "execution_count": null,
   "id": "32241722",
   "metadata": {},
   "outputs": [],
   "source": []
  }
 ],
 "metadata": {
  "kernelspec": {
   "display_name": "Python 3.8.10 64-bit",
   "language": "python",
   "name": "python3"
  },
  "language_info": {
   "codemirror_mode": {
    "name": "ipython",
    "version": 3
   },
   "file_extension": ".py",
   "mimetype": "text/x-python",
   "name": "python",
   "nbconvert_exporter": "python",
   "pygments_lexer": "ipython3",
   "version": "3.8.10"
  },
  "vscode": {
   "interpreter": {
    "hash": "f311d507aec49860c8f3190548268effc72c4bf295b7f79ce68a4fee500fb7b8"
   }
  }
 },
 "nbformat": 4,
 "nbformat_minor": 5
}
